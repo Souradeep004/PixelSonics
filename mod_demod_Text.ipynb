{
 "cells": [
  {
   "cell_type": "code",
   "execution_count": 2,
   "metadata": {},
   "outputs": [],
   "source": [
    "import numpy as np\n",
    "import sounddevice as sd\n",
    "from scipy.signal import hilbert"
   ]
  },
  {
   "cell_type": "code",
   "execution_count": null,
   "metadata": {},
   "outputs": [
    {
     "name": "stdout",
     "output_type": "stream",
     "text": [
      "Text: hello\n",
      "Binary: 0110100001100101011011000110110001101111\n",
      "Playing FSK-modulated sound...\n",
      "Decoded Text: hello\n"
     ]
    }
   ],
   "source": [
    "# Parameters for FSK\n",
    "SAMPLE_RATE = 44100  # Standard audio sampling rate\n",
    "DURATION = 0.02  # Duration of each bit in seconds\n",
    "FREQ_0 = 2000  # Frequency for bit 0\n",
    "FREQ_1 = 4000  # Frequency for bit 1\n",
    "\n",
    "# Convert text to binary\n",
    "def text_to_binary(text):\n",
    "    return ''.join(format(ord(char), '08b') for char in text)\n",
    "\n",
    "# Generate FSK-modulated waveform\n",
    "def generate_fsk_wave(binary_data):\n",
    "    t = np.linspace(0, DURATION, int(SAMPLE_RATE * DURATION), False)\n",
    "    waveform = np.concatenate([\n",
    "        0.5 * np.sin(2 * np.pi * (FREQ_1 if bit == '1' else FREQ_0) * t)\n",
    "        for bit in binary_data\n",
    "    ])\n",
    "    return waveform\n",
    "\n",
    "# Play the sound and return the waveform\n",
    "def text_to_fsk_sound(text):\n",
    "    binary_data = text_to_binary(text)  # Convert text to binary\n",
    "    print(f\"Text: {text}\")\n",
    "    print(f\"Binary: {binary_data}\")\n",
    "\n",
    "    waveform = generate_fsk_wave(binary_data)  # Generate sound wave\n",
    "    print(\"Playing FSK-modulated sound...\")\n",
    "    \n",
    "    sd.play(waveform, samplerate=SAMPLE_RATE)  # Play the sound\n",
    "    sd.wait()\n",
    "    \n",
    "    return waveform  # Return the waveform\n",
    "\n",
    "# Decode FSK waveform back to binary\n",
    "def fsk_wave_to_binary(waveform):\n",
    "    samples_per_bit = int(SAMPLE_RATE * DURATION)  # Number of samples per bit\n",
    "    binary_data = \"\"\n",
    "\n",
    "    for i in range(0, len(waveform), samples_per_bit):\n",
    "        segment = waveform[i:i+samples_per_bit]  # Extract bit-sized segment\n",
    "\n",
    "        # Hilbert transform to extract envelope (frequency detection)\n",
    "        analytic_signal = hilbert(segment)\n",
    "        amplitude_envelope = np.abs(analytic_signal)\n",
    "        \n",
    "        # Determine dominant frequency using zero-crossing rate\n",
    "        zero_crossings = np.where(np.diff(np.sign(segment)))[0]\n",
    "        frequency = len(zero_crossings) / (2 * DURATION)  # Approximate frequency\n",
    "\n",
    "        # Assign bit based on closest frequency\n",
    "        if abs(frequency - FREQ_1) < abs(frequency - FREQ_0):\n",
    "            binary_data += \"1\"\n",
    "        else:\n",
    "            binary_data += \"0\"\n",
    "\n",
    "    return binary_data\n",
    "\n",
    "# Convert binary back to text\n",
    "def binary_to_text(binary_data):\n",
    "    chars = [binary_data[i:i+8] for i in range(0, len(binary_data), 8)]\n",
    "    return ''.join(chr(int(char, 2)) for char in chars if len(char) == 8)\n",
    "\n",
    "# Decode FSK waveform back to text\n",
    "def decode_fsk_sound(waveform):\n",
    "    binary_data = fsk_wave_to_binary(waveform)\n",
    "    text = binary_to_text(binary_data)\n",
    "    return text\n",
    "\n",
    "\n",
    "if __name__ == \"__main__\":\n",
    "    \n",
    "    wave = text_to_fsk_sound(\"hello\")  # Converts \"hello\" to FSK sound and returns the waveform\n",
    "    decoded_text = decode_fsk_sound(wave)  # Decode the waveform back to text\n",
    "    print(f\"Decoded Text: {decoded_text}\")"
   ]
  }
 ],
 "metadata": {
  "kernelspec": {
   "display_name": ".venv",
   "language": "python",
   "name": "python3"
  },
  "language_info": {
   "codemirror_mode": {
    "name": "ipython",
    "version": 3
   },
   "file_extension": ".py",
   "mimetype": "text/x-python",
   "name": "python",
   "nbconvert_exporter": "python",
   "pygments_lexer": "ipython3",
   "version": "3.11.5"
  }
 },
 "nbformat": 4,
 "nbformat_minor": 2
}
